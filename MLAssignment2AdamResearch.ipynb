{
  "cells": [
    {
      "cell_type": "markdown",
      "metadata": {
        "id": "view-in-github",
        "colab_type": "text"
      },
      "source": [
        "<a href=\"https://colab.research.google.com/github/GodishalaAshwith/MachineLearningLab/blob/main/MLAssignment2AdamResearch.ipynb\" target=\"_parent\"><img src=\"https://colab.research.google.com/assets/colab-badge.svg\" alt=\"Open In Colab\"/></a>"
      ]
    },
    {
      "cell_type": "code",
      "source": [
        "# --- Imports ---\n",
        "import torch\n",
        "import torch.nn as nn\n",
        "import torch.optim as optim\n",
        "import torchvision\n",
        "import torchvision.transforms as transforms\n",
        "from torch.utils.data import DataLoader\n",
        "import pandas as pd\n",
        "import matplotlib.pyplot as plt\n",
        "import random\n",
        "\n",
        "# --- Reproducibility ---\n",
        "torch.manual_seed(42)\n",
        "torch.cuda.manual_seed(42)\n",
        "\n",
        "# --- Transform with Data Augmentation ---\n",
        "transform_train = transforms.Compose([\n",
        "    transforms.RandomRotation(10),       # small rotation\n",
        "    transforms.RandomAffine(0, translate=(0.1,0.1)), # small shift\n",
        "    transforms.ToTensor(),\n",
        "    transforms.Normalize((0.5,), (0.5,))\n",
        "])\n",
        "\n",
        "transform_test = transforms.Compose([\n",
        "    transforms.ToTensor(),\n",
        "    transforms.Normalize((0.5,), (0.5,))\n",
        "])\n",
        "\n",
        "# --- Datasets ---\n",
        "train_data = torchvision.datasets.MNIST(root='./data', train=True, download=True, transform=transform_train)\n",
        "test_data = torchvision.datasets.MNIST(root='./data', train=False, download=True, transform=transform_test)\n",
        "\n",
        "# --- Device ---\n",
        "device = torch.device('cuda' if torch.cuda.is_available() else 'cpu')\n",
        "print(\"Using device:\", device)\n",
        "\n",
        "# --- Improved Model Definition ---\n",
        "class Net(nn.Module):\n",
        "    def __init__(self, hidden_units=128, dropout_rate=0.2):\n",
        "        super(Net, self).__init__()\n",
        "        self.fc1 = nn.Linear(28*28, hidden_units)\n",
        "        self.fc2 = nn.Linear(hidden_units, hidden_units)\n",
        "        self.fc3 = nn.Linear(hidden_units, hidden_units//2)\n",
        "        self.fc4 = nn.Linear(hidden_units//2, 10)\n",
        "        self.dropout = nn.Dropout(dropout_rate)\n",
        "\n",
        "    def forward(self, x):\n",
        "        x = x.view(-1, 28*28)\n",
        "        x = torch.relu(self.fc1(x))\n",
        "        x = self.dropout(x)\n",
        "        x = torch.relu(self.fc2(x))\n",
        "        x = self.dropout(x)\n",
        "        x = torch.relu(self.fc3(x))\n",
        "        x = self.dropout(x)\n",
        "        x = self.fc4(x)\n",
        "        return x\n",
        "\n",
        "# --- Training Function with Scheduler ---\n",
        "def train_and_eval(lr, batch_size, hidden_units, dropout_rate, optimizer_name, epochs=10):\n",
        "    train_loader = DataLoader(train_data, batch_size=batch_size, shuffle=True, num_workers=2, pin_memory=True)\n",
        "    test_loader = DataLoader(test_data, batch_size=128, shuffle=False, num_workers=2, pin_memory=True)\n",
        "\n",
        "    model = Net(hidden_units, dropout_rate).to(device)\n",
        "    criterion = nn.CrossEntropyLoss()\n",
        "\n",
        "    # Use AdamW for better regularization\n",
        "    optimizer = optim.AdamW(model.parameters(), lr=lr) if optimizer_name == 'Adam' else optim.SGD(model.parameters(), lr=lr, momentum=0.9)\n",
        "\n",
        "    # Cosine Annealing Scheduler\n",
        "    scheduler = optim.lr_scheduler.CosineAnnealingLR(optimizer, T_max=epochs)\n",
        "\n",
        "    for epoch in range(epochs):\n",
        "        model.train()\n",
        "        running_loss = 0.0\n",
        "        for images, labels in train_loader:\n",
        "            images, labels = images.to(device), labels.to(device)\n",
        "            optimizer.zero_grad()\n",
        "            outputs = model(images)\n",
        "            loss = criterion(outputs, labels)\n",
        "            loss.backward()\n",
        "            optimizer.step()\n",
        "            running_loss += loss.item()\n",
        "        scheduler.step()\n",
        "        print(f\"Epoch [{epoch+1}/{epochs}] - Loss: {running_loss/len(train_loader):.4f}\")\n",
        "\n",
        "    # --- Evaluation ---\n",
        "    model.eval()\n",
        "    correct, total = 0, 0\n",
        "    with torch.no_grad():\n",
        "        for images, labels in test_loader:\n",
        "            images, labels = images.to(device), labels.to(device)\n",
        "            outputs = model(images)\n",
        "            _, predicted = torch.max(outputs.data, 1)\n",
        "            total += labels.size(0)\n",
        "            correct += (predicted == labels).sum().item()\n",
        "    accuracy = 100 * correct / total\n",
        "    return accuracy\n",
        "\n",
        "# --- Set Best Hyperparameters from Random Search ---\n",
        "best_params = (0.001, 64, 128, 0.3, 'Adam')\n",
        "lr, batch, hidden, drop, opt = best_params\n",
        "\n",
        "# --- Retrain Full Model ---\n",
        "print(f\"\\nRetraining Best Model with {best_params} for 15 epochs...\\n\")\n",
        "final_acc = train_and_eval(lr, batch, hidden, drop, opt, epochs=15)\n",
        "print(f\"Final Accuracy after retraining: {final_acc:.2f}%\")\n"
      ],
      "metadata": {
        "id": "TuCyV-NXXx1j",
        "colab": {
          "base_uri": "https://localhost:8080/"
        },
        "outputId": "7f9bfbad-a67d-4360-d5d4-324a8492a492"
      },
      "execution_count": 1,
      "outputs": [
        {
          "output_type": "stream",
          "name": "stderr",
          "text": [
            "100%|██████████| 9.91M/9.91M [00:00<00:00, 19.0MB/s]\n",
            "100%|██████████| 28.9k/28.9k [00:00<00:00, 496kB/s]\n",
            "100%|██████████| 1.65M/1.65M [00:00<00:00, 4.73MB/s]\n",
            "100%|██████████| 4.54k/4.54k [00:00<00:00, 14.0MB/s]\n"
          ]
        },
        {
          "output_type": "stream",
          "name": "stdout",
          "text": [
            "Using device: cuda\n",
            "\n",
            "Retraining Best Model with (0.001, 64, 128, 0.3, 'Adam') for 15 epochs...\n",
            "\n",
            "Epoch [1/15] - Loss: 1.2458\n",
            "Epoch [2/15] - Loss: 0.8018\n",
            "Epoch [3/15] - Loss: 0.7020\n",
            "Epoch [4/15] - Loss: 0.6368\n",
            "Epoch [5/15] - Loss: 0.5994\n",
            "Epoch [6/15] - Loss: 0.5690\n",
            "Epoch [7/15] - Loss: 0.5458\n",
            "Epoch [8/15] - Loss: 0.5291\n",
            "Epoch [9/15] - Loss: 0.5057\n",
            "Epoch [10/15] - Loss: 0.4837\n",
            "Epoch [11/15] - Loss: 0.4680\n",
            "Epoch [12/15] - Loss: 0.4557\n",
            "Epoch [13/15] - Loss: 0.4507\n",
            "Epoch [14/15] - Loss: 0.4433\n",
            "Epoch [15/15] - Loss: 0.4358\n",
            "Final Accuracy after retraining: 96.40%\n"
          ]
        }
      ]
    }
  ],
  "metadata": {
    "colab": {
      "provenance": [],
      "gpuType": "T4",
      "authorship_tag": "ABX9TyPz9REo5CSb9uYOuHgFLCNW",
      "include_colab_link": true
    },
    "kernelspec": {
      "display_name": "Python 3",
      "name": "python3"
    },
    "language_info": {
      "name": "python"
    },
    "accelerator": "GPU"
  },
  "nbformat": 4,
  "nbformat_minor": 0
}